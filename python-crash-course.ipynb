{
 "cells": [
  {
   "cell_type": "markdown",
   "metadata": {},
   "source": [
    "# Working through Python Crash Course, by Eric Matthes.\n"
   ]
  },
  {
   "cell_type": "markdown",
   "metadata": {},
   "source": [
    "## Chapter 5 - Tuples"
   ]
  },
  {
   "cell_type": "code",
   "execution_count": 1,
   "metadata": {},
   "outputs": [],
   "source": [
    "tuplelist = ('A', 'B', 'C', 'D', 'E')"
   ]
  },
  {
   "cell_type": "code",
   "execution_count": 2,
   "metadata": {},
   "outputs": [
    {
     "data": {
      "text/plain": [
       "'B'"
      ]
     },
     "execution_count": 2,
     "metadata": {},
     "output_type": "execute_result"
    }
   ],
   "source": [
    "tuplelist[1]"
   ]
  },
  {
   "cell_type": "code",
   "execution_count": 3,
   "metadata": {},
   "outputs": [
    {
     "name": "stdout",
     "output_type": "stream",
     "text": [
      "A\n",
      "B\n",
      "C\n",
      "D\n",
      "E\n"
     ]
    }
   ],
   "source": [
    "for tupleitem in tuplelist:\n",
    "    print(tupleitem)"
   ]
  },
  {
   "cell_type": "code",
   "execution_count": 4,
   "metadata": {},
   "outputs": [],
   "source": [
    " cars = ['audi', 'bmw', 'cadillac', 'dodge', 'e63']"
   ]
  },
  {
   "cell_type": "code",
   "execution_count": 5,
   "metadata": {},
   "outputs": [
    {
     "name": "stdout",
     "output_type": "stream",
     "text": [
      "The car is an Audi\n",
      "Done.\n",
      "Car is a BMW\n",
      "Done.\n",
      "Car is a Cadillac\n",
      "Done.\n",
      "Car is a Dodge\n",
      "Done.\n",
      "Car is a E63\n",
      "Done.\n"
     ]
    }
   ],
   "source": [
    "for car in cars:\n",
    "    if car == 'bmw':\n",
    "        print('Car is a ' + car.upper())\n",
    "    elif car == 'audi':\n",
    "        print('The car is an ' + car.title())\n",
    "    else:\n",
    "        print('Car is a ' + car.title())\n",
    "    print('Done.')"
   ]
  },
  {
   "cell_type": "code",
   "execution_count": 6,
   "metadata": {},
   "outputs": [
    {
     "ename": "SyntaxError",
     "evalue": "invalid syntax (<ipython-input-6-556f8c856703>, line 3)",
     "output_type": "error",
     "traceback": [
      "\u001b[1;36m  File \u001b[1;32m\"<ipython-input-6-556f8c856703>\"\u001b[1;36m, line \u001b[1;32m3\u001b[0m\n\u001b[1;33m    if requested_toppings\u001b[0m\n\u001b[1;37m                         ^\u001b[0m\n\u001b[1;31mSyntaxError\u001b[0m\u001b[1;31m:\u001b[0m invalid syntax\n"
     ]
    }
   ],
   "source": [
    "requested_toppings = []\n",
    "\n",
    "if requested_toppings"
   ]
  },
  {
   "cell_type": "code",
   "execution_count": null,
   "metadata": {},
   "outputs": [],
   "source": [
    "cars.sort()\n",
    "print(cars[::-1])\n",
    "cars"
   ]
  },
  {
   "cell_type": "code",
   "execution_count": null,
   "metadata": {},
   "outputs": [],
   "source": [
    "if users:\n",
    "    for user in users:\n",
    "        if user == 'admin':\n",
    "            print('Hello ' + user + ', would you like to see a statust report?')\n",
    "        else:\n",
    "            print('Hello ' + user.title() + ', thanks for logging in again.')\n",
    "else:\n",
    "    print('Please add users.')"
   ]
  },
  {
   "cell_type": "code",
   "execution_count": null,
   "metadata": {},
   "outputs": [],
   "source": [
    "current_users = ['erik', 'crystal', 'tEd', 'brittany', 'admin']\n",
    "new_users = ['bob', 'erik', 'bill', 'tEd', 'ted']\n",
    "current_users_lower = [user.lower() for user in current_users]\n",
    "all_users = []\n",
    "for new_user in new_users:\n",
    "    if new_user.lower() not in current_users_lower:\n",
    "        print(new_user + ' is available')\n",
    "    else:\n",
    "        print(new_user + ' is already taken, please select a new username.')\n",
    "            "
   ]
  },
  {
   "cell_type": "code",
   "execution_count": null,
   "metadata": {},
   "outputs": [],
   "source": [
    "ordinals = list(range(1,10,1))\n",
    "for num in ordinals:\n",
    "    if num == 1:\n",
    "        print(str(num) + 'st')\n",
    "    elif num == 2:\n",
    "        print(str(num) + 'nd')\n",
    "    elif num == 3:\n",
    "        print(str(num) + 'rd')\n",
    "    else:\n",
    "        print(str(num) + 'th')"
   ]
  },
  {
   "cell_type": "markdown",
   "metadata": {},
   "source": [
    "## Chapter 6 - Dictionaries"
   ]
  },
  {
   "cell_type": "code",
   "execution_count": null,
   "metadata": {},
   "outputs": [],
   "source": [
    "alien_0 = {'color': 'green', 'points': 5}\n",
    "print(alien_0['color'])\n",
    "print(alien_0['points'])"
   ]
  },
  {
   "cell_type": "code",
   "execution_count": null,
   "metadata": {},
   "outputs": [],
   "source": [
    "points = 10\n",
    "new_points = alien_0['points']\n",
    "print('Bam. You just earned ' + str(new_points) + \n",
    "      ' points! You now have ' + str(points + new_points) +' points!')"
   ]
  },
  {
   "cell_type": "code",
   "execution_count": null,
   "metadata": {},
   "outputs": [],
   "source": [
    "# Adding x- and y-coordinates\n",
    "alien_0['x_position'] = 0\n",
    "alien_0['y_position'] = 25\n",
    "print(alien_0)"
   ]
  },
  {
   "cell_type": "code",
   "execution_count": null,
   "metadata": {},
   "outputs": [],
   "source": [
    "alien_0['color'] = 'yellow'\n",
    "print('The alien is now ' + alien_0['color'])"
   ]
  },
  {
   "cell_type": "code",
   "execution_count": null,
   "metadata": {},
   "outputs": [],
   "source": [
    "alien_0 = {'x_position': 0, 'y_position': 25, 'speed': 'medium'}\n",
    "print(alien_0)\n",
    "del alien_0['speed']\n",
    "print(alien_0)"
   ]
  },
  {
   "cell_type": "code",
   "execution_count": null,
   "metadata": {},
   "outputs": [],
   "source": [
    "cool_cars = {\n",
    "    'bentley': 'continental', \n",
    "    'audi': 'r8',\n",
    "    'nissan': 'gtr',\n",
    "    'mercedes': 'gtr',\n",
    "    'porsche': '911 turbo s',\n",
    "    'toyota': 'supra',\n",
    "    'volkswagen': 'golf r',\n",
    "    'porsche': 'cayman s'\n",
    "}\n",
    "\n",
    "for k, v in cool_cars2.items():\n",
    "    if v == 'gtr':\n",
    "        print('Have you seen the ' + k.title() + ' ' + v.upper() + \"? It's pretty cool.\")\n",
    "    else:\n",
    "        print('Have you seen the ' + k.title() + ' ' + v.title() + \"? It's pretty cool.\")\n",
    "    \n",
    "print('\\n')\n",
    "\n",
    "print('The unique models mentioned as \"cool\" were :\\n')\n",
    "for model in set(cool_cars.values()):\n",
    "    if model == 'gtr':\n",
    "        print(model.upper())\n",
    "    else:\n",
    "        print(model.title())"
   ]
  },
  {
   "cell_type": "code",
   "execution_count": 7,
   "metadata": {},
   "outputs": [
    {
     "name": "stdout",
     "output_type": "stream",
     "text": [
      "{'color': 'green', 'points': 1}\n",
      "{'color': 'yellow', 'points': 5}\n",
      "{'color': 'orange', 'points': 10}\n",
      "{'color': 'red', 'points': 15}\n",
      "{'color': 'black', 'points': 20}\n",
      "{'color': 'gold', 'points': 30}\n"
     ]
    }
   ],
   "source": [
    "alien_0 = {'color': 'green', 'points': 1}\n",
    "alien_1 = {'color': 'yellow', 'points': 5}\n",
    "alien_2 = {'color': 'orange', 'points': 10}\n",
    "alien_3 = {'color': 'red', 'points': 15}\n",
    "alien_4 = {'color': 'black', 'points': 20}\n",
    "alien_5 = {'color': 'gold', 'points': 30}\n",
    "\n",
    "aliens = [alien_0, alien_1, alien_2, alien_3, alien_4, alien_5]\n",
    "\n",
    "for alien in aliens:\n",
    "    print(alien)"
   ]
  },
  {
   "cell_type": "code",
   "execution_count": 8,
   "metadata": {},
   "outputs": [
    {
     "name": "stdout",
     "output_type": "stream",
     "text": [
      "{'color': 'green', 'points': 5, 'speed': 'slow'}\n",
      "{'color': 'green', 'points': 5, 'speed': 'slow'}\n",
      "{'color': 'green', 'points': 5, 'speed': 'slow'}\n",
      "{'color': 'yellow', 'points': 10, 'speed': 'medium'}\n",
      "{'color': 'yellow', 'points': 10, 'speed': 'medium'}\n",
      "...\n",
      "Total numer of aliens: 30\n"
     ]
    }
   ],
   "source": [
    "aliens = []\n",
    "\n",
    "for alien_number in range(30):\n",
    "    if alien_number < 3:\n",
    "        new_alien = {'color': 'green', 'points': 5, 'speed':'slow'}\n",
    "        aliens.append(new_alien)\n",
    "    else:\n",
    "        new_alien = {'color': 'yellow', 'points': 10, 'speed':'medium'}\n",
    "        aliens.append(new_alien)\n",
    "        \n",
    "        \n",
    "for alien in aliens[:5]:\n",
    "    print(alien)\n",
    "print('...')\n",
    "\n",
    "print('Total numer of aliens: ' + str(len(aliens)))\n"
   ]
  },
  {
   "cell_type": "code",
   "execution_count": 9,
   "metadata": {},
   "outputs": [
    {
     "name": "stdout",
     "output_type": "stream",
     "text": [
      "Audi's cool cars are:\n",
      "\tAudi R8\n",
      "\tAudi S3\n",
      "\tAudi S5 Sportback\n",
      "\n",
      "\n",
      "BMW's cool cars are:\n",
      "\tBMW M5 Competition\n",
      "\tBMW M2 Competition\n",
      "\tBMW M3\n",
      "\n",
      "\n",
      "Aston Martin's cool cars are:\n",
      "\tAston Martin DB11\n",
      "\tAston Martin DB9\n",
      "\tAston Martin Vantage\n",
      "\tAston Martin Valkyrie\n",
      "\tAston Martin Valhalla\n",
      "\n",
      "\n"
     ]
    }
   ],
   "source": [
    "cool_cars = {\n",
    "    'audi': ['r8', 's3', 's5 sportback'],\n",
    "    'bmw': ['m5 competition', 'm2 competition', 'm3'],\n",
    "    'aston martin': ['db11', 'db9', 'vantage', 'valkyrie', 'valhalla']\n",
    "    }\n",
    "\n",
    "for mfg, models in cool_cars.items():\n",
    "    if mfg == 'bmw':\n",
    "        print(mfg.upper() + \"'s cool cars are:\")\n",
    "        for model in models:\n",
    "            print('\\t' + mfg.upper() + ' ' + model.title())\n",
    "        print('\\n')\n",
    "    else:\n",
    "        print(mfg.title() + \"'s cool cars are:\")\n",
    "        for model in models:\n",
    "            if model in ['db11','db9']:\n",
    "                print('\\t' + mfg.title() + ' ' + model.upper())\n",
    "            else:\n",
    "                print('\\t' + mfg.title() + ' ' + model.title())\n",
    "        print('\\n')"
   ]
  },
  {
   "cell_type": "code",
   "execution_count": 10,
   "metadata": {},
   "outputs": [
    {
     "name": "stdout",
     "output_type": "stream",
     "text": [
      "Username: aeinstein\n",
      "   First name: Albert\n",
      "   Last name: Einstein\n",
      "   Location: Princeton\n",
      "Username: mcurie\n",
      "   First name: Marie\n",
      "   Last name: Curie\n",
      "   Location: Paris\n"
     ]
    }
   ],
   "source": [
    "users = {\n",
    "    'aeinstein': {\n",
    "        'first': 'albert',\n",
    "        'last': 'einstein',\n",
    "        'location': 'princeton'\n",
    "        },\n",
    "    'mcurie': {\n",
    "        'first': 'marie',\n",
    "        'last': 'curie',\n",
    "        'location': 'paris'\n",
    "        }\n",
    "    }\n",
    "\n",
    "for username, user_info in users.items():\n",
    "    print('Username: ' + username)\n",
    "    print('   First name: ' + user_info['first'].title())\n",
    "    print('   Last name: ' + user_info['last'].title())\n",
    "    print('   Location: ' + user_info['location'].title())"
   ]
  },
  {
   "cell_type": "code",
   "execution_count": 11,
   "metadata": {},
   "outputs": [
    {
     "name": "stdout",
     "output_type": "stream",
     "text": [
      "State: Colorado\n",
      "\n",
      "\tCity: Denver\n",
      "\t\tLatitude: 39.74\n",
      "\t\tLongitude: 104.99\n",
      "\t\tPopulation: 619968\n",
      "\n",
      "\n",
      "\tCity: Boulder\n",
      "\t\tLatitude: 40.02\n",
      "\t\tLongitude: 105.27\n",
      "\t\tPopulation: 107353\n",
      "\n",
      "\n",
      "State: Texas\n",
      "\n",
      "\tCity: Austin\n",
      "\t\tLatitude: 30.28\n",
      "\t\tLongitude: 97.74\n",
      "\t\tPopulation: 964000\n",
      "\n",
      "\n",
      "\tCity: San Antonio\n",
      "\t\tLatitude: 29.42\n",
      "\t\tLongitude: 98.49\n",
      "\t\tPopulation: 1493000\n",
      "\n",
      "\n",
      "State: Wisconsin\n",
      "\n",
      "\tCity: Madison\n",
      "\t\tLatitude: 43.07\n",
      "\t\tLongitude: 89.4\n",
      "\t\tPopulation: 258000\n",
      "\n",
      "\n",
      "\tCity: Milwaukee\n",
      "\t\tLatitude: 43.04\n",
      "\t\tLongitude: 87.91\n",
      "\t\tPopulation: 592000\n",
      "\n",
      "\n"
     ]
    }
   ],
   "source": [
    "cities = {\n",
    "    'colorado': {\n",
    "        'denver': {\n",
    "            'lat': 39.74,\n",
    "            'lon': 104.99,\n",
    "            'population': 619968\n",
    "            },\n",
    "        'boulder': {\n",
    "            'lat': 40.02,\n",
    "            'lon': 105.27,\n",
    "            'population': 107353\n",
    "            }\n",
    "        },\n",
    "    'texas': {\n",
    "        'austin': {\n",
    "            'lat': 30.28,\n",
    "            'lon': 97.74,\n",
    "            'population': 964000\n",
    "            },\n",
    "        'san antonio': {\n",
    "            'lat': 29.42,\n",
    "            'lon': 98.49,\n",
    "            'population': 1493000\n",
    "            }\n",
    "        },\n",
    "    'wisconsin': {\n",
    "        'madison': {\n",
    "            'lat': 43.07,\n",
    "            'lon': 89.40,\n",
    "            'population': 258000\n",
    "            },\n",
    "        'milwaukee': {\n",
    "            'lat': 43.04,\n",
    "            'lon': 87.91,\n",
    "            'population': 592000\n",
    "            }\n",
    "        }\n",
    "\n",
    "    }\n",
    "\n",
    "for state, city in cities.items():\n",
    "    print('State: ' + state.title() + '\\n')\n",
    "    for city_name, city_details in city.items():\n",
    "        print('\\tCity: ' + city_name.title())\n",
    "        print('\\t\\tLatitude: ' + str(city_details['lat']))\n",
    "        print('\\t\\tLongitude: ' + str(city_details['lon']))\n",
    "        print('\\t\\tPopulation: ' + str(city_details['population']))\n",
    "        print('\\n')"
   ]
  },
  {
   "cell_type": "markdown",
   "metadata": {},
   "source": [
    "## Chapter 7"
   ]
  },
  {
   "cell_type": "code",
   "execution_count": 15,
   "metadata": {},
   "outputs": [
    {
     "name": "stdout",
     "output_type": "stream",
     "text": [
      "What's your favorite flavor of ice cream? espresso\n",
      "\n",
      "Yum! Espresso sounds delicous!\n"
     ]
    }
   ],
   "source": [
    "fave_flave = input(\"What's your favorite flavor of ice cream? \")\n",
    "print('\\nYum! '+ fave_flave.title() + ' sounds delicous!')"
   ]
  },
  {
   "cell_type": "code",
   "execution_count": 20,
   "metadata": {},
   "outputs": [
    {
     "name": "stdout",
     "output_type": "stream",
     "text": [
      "When is your Birthday? May 1\n",
      "What is your name? Clarice\n",
      "May 1 is a special day for Clarice! It's Clarice's Birthday!\n"
     ]
    }
   ],
   "source": [
    "prompt_bday = 'When is your Birthday? '\n",
    "prompt_name = 'What is your name? '\n",
    "\n",
    "bday = input(prompt_bday)\n",
    "name = input(prompt_name)\n",
    "\n",
    "message = bday + ' is a special day for ' + name + '!'\n",
    "message += \" It's \" + name + \"'s Birthday!\"\n",
    "print(message)"
   ]
  },
  {
   "cell_type": "code",
   "execution_count": null,
   "metadata": {},
   "outputs": [],
   "source": []
  },
  {
   "cell_type": "code",
   "execution_count": null,
   "metadata": {},
   "outputs": [],
   "source": []
  },
  {
   "cell_type": "code",
   "execution_count": null,
   "metadata": {},
   "outputs": [],
   "source": []
  },
  {
   "cell_type": "code",
   "execution_count": null,
   "metadata": {},
   "outputs": [],
   "source": []
  },
  {
   "cell_type": "code",
   "execution_count": null,
   "metadata": {},
   "outputs": [],
   "source": []
  },
  {
   "cell_type": "code",
   "execution_count": null,
   "metadata": {},
   "outputs": [],
   "source": []
  },
  {
   "cell_type": "code",
   "execution_count": null,
   "metadata": {},
   "outputs": [],
   "source": []
  },
  {
   "cell_type": "code",
   "execution_count": null,
   "metadata": {},
   "outputs": [],
   "source": []
  },
  {
   "cell_type": "code",
   "execution_count": null,
   "metadata": {},
   "outputs": [],
   "source": []
  },
  {
   "cell_type": "code",
   "execution_count": null,
   "metadata": {},
   "outputs": [],
   "source": []
  },
  {
   "cell_type": "markdown",
   "metadata": {},
   "source": [
    "## Pandas"
   ]
  },
  {
   "cell_type": "code",
   "execution_count": null,
   "metadata": {},
   "outputs": [],
   "source": []
  },
  {
   "cell_type": "code",
   "execution_count": null,
   "metadata": {},
   "outputs": [],
   "source": []
  },
  {
   "cell_type": "code",
   "execution_count": null,
   "metadata": {},
   "outputs": [],
   "source": []
  },
  {
   "cell_type": "markdown",
   "metadata": {},
   "source": [
    "## Numpy"
   ]
  },
  {
   "cell_type": "code",
   "execution_count": null,
   "metadata": {},
   "outputs": [],
   "source": []
  },
  {
   "cell_type": "code",
   "execution_count": null,
   "metadata": {},
   "outputs": [],
   "source": []
  },
  {
   "cell_type": "code",
   "execution_count": null,
   "metadata": {},
   "outputs": [],
   "source": []
  },
  {
   "cell_type": "markdown",
   "metadata": {},
   "source": [
    "## Matplotlib"
   ]
  },
  {
   "cell_type": "code",
   "execution_count": null,
   "metadata": {},
   "outputs": [],
   "source": []
  },
  {
   "cell_type": "code",
   "execution_count": null,
   "metadata": {},
   "outputs": [],
   "source": []
  }
 ],
 "metadata": {
  "kernelspec": {
   "display_name": "Python 3",
   "language": "python",
   "name": "python3"
  },
  "language_info": {
   "codemirror_mode": {
    "name": "ipython",
    "version": 3
   },
   "file_extension": ".py",
   "mimetype": "text/x-python",
   "name": "python",
   "nbconvert_exporter": "python",
   "pygments_lexer": "ipython3",
   "version": "3.7.4"
  }
 },
 "nbformat": 4,
 "nbformat_minor": 4
}
