{
 "cells": [
  {
   "cell_type": "markdown",
   "metadata": {},
   "source": [
    "# Working through Python Crash Course, by Eric Matthes.\n"
   ]
  },
  {
   "cell_type": "markdown",
   "metadata": {},
   "source": [
    "## Chapter 5 - Tuples"
   ]
  },
  {
   "cell_type": "code",
   "execution_count": 1,
   "metadata": {},
   "outputs": [],
   "source": [
    "tuplelist = ('A', 'B', 'C', 'D', 'E')"
   ]
  },
  {
   "cell_type": "code",
   "execution_count": 2,
   "metadata": {},
   "outputs": [
    {
     "data": {
      "text/plain": [
       "'B'"
      ]
     },
     "execution_count": 2,
     "metadata": {},
     "output_type": "execute_result"
    }
   ],
   "source": [
    "tuplelist[1]"
   ]
  },
  {
   "cell_type": "code",
   "execution_count": 3,
   "metadata": {},
   "outputs": [
    {
     "name": "stdout",
     "output_type": "stream",
     "text": [
      "A\n",
      "B\n",
      "C\n",
      "D\n",
      "E\n"
     ]
    }
   ],
   "source": [
    "for tupleitem in tuplelist:\n",
    "    print(tupleitem)"
   ]
  },
  {
   "cell_type": "code",
   "execution_count": 4,
   "metadata": {},
   "outputs": [],
   "source": [
    " cars = ['audi', 'bmw', 'cadillac', 'dodge', 'e63']"
   ]
  },
  {
   "cell_type": "code",
   "execution_count": 5,
   "metadata": {},
   "outputs": [
    {
     "name": "stdout",
     "output_type": "stream",
     "text": [
      "The car is an Audi\n",
      "Done.\n",
      "Car is a BMW\n",
      "Done.\n",
      "Car is a Cadillac\n",
      "Done.\n",
      "Car is a Dodge\n",
      "Done.\n",
      "Car is a E63\n",
      "Done.\n"
     ]
    }
   ],
   "source": [
    "for car in cars:\n",
    "    if car == 'bmw':\n",
    "        print('Car is a ' + car.upper())\n",
    "    elif car == 'audi':\n",
    "        print('The car is an ' + car.title())\n",
    "    else:\n",
    "        print('Car is a ' + car.title())\n",
    "    print('Done.')"
   ]
  },
  {
   "cell_type": "code",
   "execution_count": 7,
   "metadata": {},
   "outputs": [
    {
     "name": "stdout",
     "output_type": "stream",
     "text": [
      "['e63', 'dodge', 'cadillac', 'bmw', 'audi']\n"
     ]
    },
    {
     "data": {
      "text/plain": [
       "['audi', 'bmw', 'cadillac', 'dodge', 'e63']"
      ]
     },
     "execution_count": 7,
     "metadata": {},
     "output_type": "execute_result"
    }
   ],
   "source": [
    "cars.sort()\n",
    "print(cars[::-1])\n",
    "cars"
   ]
  },
  {
   "cell_type": "code",
   "execution_count": 12,
   "metadata": {},
   "outputs": [
    {
     "name": "stdout",
     "output_type": "stream",
     "text": [
      "Hello Bob, thanks for logging in again.\n",
      "Hello Carol, thanks for logging in again.\n",
      "Hello Danny, thanks for logging in again.\n",
      "Hello Elsie, thanks for logging in again.\n",
      "Hello admin, would you like to see a statust report?\n"
     ]
    }
   ],
   "source": [
    "users = ['bob', 'carol', 'danny', 'elsie', 'admin']\n",
    "if users:\n",
    "    for user in users:\n",
    "        if user == 'admin':\n",
    "            print('Hello ' + user + ', would you like to see a statust report?')\n",
    "        else:\n",
    "            print('Hello ' + user.title() + ', thanks for logging in again.')\n",
    "else:\n",
    "    print('Please add users.')"
   ]
  },
  {
   "cell_type": "code",
   "execution_count": 13,
   "metadata": {},
   "outputs": [
    {
     "name": "stdout",
     "output_type": "stream",
     "text": [
      "bob is available\n",
      "erik is already taken, please select a new username.\n",
      "bill is available\n",
      "tEd is already taken, please select a new username.\n",
      "ted is already taken, please select a new username.\n"
     ]
    }
   ],
   "source": [
    "current_users = ['erik', 'crystal', 'tEd', 'brittany', 'admin']\n",
    "new_users = ['bob', 'erik', 'bill', 'tEd', 'ted']\n",
    "current_users_lower = [user.lower() for user in current_users]\n",
    "all_users = []\n",
    "for new_user in new_users:\n",
    "    if new_user.lower() not in current_users_lower:\n",
    "        print(new_user + ' is available')\n",
    "    else:\n",
    "        print(new_user + ' is already taken, please select a new username.')\n",
    "            "
   ]
  },
  {
   "cell_type": "code",
   "execution_count": 14,
   "metadata": {},
   "outputs": [
    {
     "name": "stdout",
     "output_type": "stream",
     "text": [
      "1st\n",
      "2nd\n",
      "3rd\n",
      "4th\n",
      "5th\n",
      "6th\n",
      "7th\n",
      "8th\n",
      "9th\n"
     ]
    }
   ],
   "source": [
    "ordinals = list(range(1,10,1))\n",
    "for num in ordinals:\n",
    "    if num == 1:\n",
    "        print(str(num) + 'st')\n",
    "    elif num == 2:\n",
    "        print(str(num) + 'nd')\n",
    "    elif num == 3:\n",
    "        print(str(num) + 'rd')\n",
    "    else:\n",
    "        print(str(num) + 'th')"
   ]
  },
  {
   "cell_type": "markdown",
   "metadata": {},
   "source": [
    "## Chapter 6 - Dictionaries"
   ]
  },
  {
   "cell_type": "code",
   "execution_count": 15,
   "metadata": {},
   "outputs": [
    {
     "name": "stdout",
     "output_type": "stream",
     "text": [
      "green\n",
      "5\n"
     ]
    }
   ],
   "source": [
    "alien_0 = {'color': 'green', 'points': 5}\n",
    "print(alien_0['color'])\n",
    "print(alien_0['points'])"
   ]
  },
  {
   "cell_type": "code",
   "execution_count": 16,
   "metadata": {},
   "outputs": [
    {
     "name": "stdout",
     "output_type": "stream",
     "text": [
      "Bam. You just earned 5 points! You now have 15 points!\n"
     ]
    }
   ],
   "source": [
    "points = 10\n",
    "new_points = alien_0['points']\n",
    "print('Bam. You just earned ' + str(new_points) + \n",
    "      ' points! You now have ' + str(points + new_points) +' points!')"
   ]
  },
  {
   "cell_type": "code",
   "execution_count": 17,
   "metadata": {},
   "outputs": [
    {
     "name": "stdout",
     "output_type": "stream",
     "text": [
      "{'color': 'green', 'points': 5, 'x_position': 0, 'y_position': 25}\n"
     ]
    }
   ],
   "source": [
    "# Adding x- and y-coordinates\n",
    "alien_0['x_position'] = 0\n",
    "alien_0['y_position'] = 25\n",
    "print(alien_0)"
   ]
  },
  {
   "cell_type": "code",
   "execution_count": 18,
   "metadata": {},
   "outputs": [
    {
     "name": "stdout",
     "output_type": "stream",
     "text": [
      "The alien is now yellow\n"
     ]
    }
   ],
   "source": [
    "alien_0['color'] = 'yellow'\n",
    "print('The alien is now ' + alien_0['color'])"
   ]
  },
  {
   "cell_type": "code",
   "execution_count": 19,
   "metadata": {},
   "outputs": [
    {
     "name": "stdout",
     "output_type": "stream",
     "text": [
      "{'x_position': 0, 'y_position': 25, 'speed': 'medium'}\n",
      "{'x_position': 0, 'y_position': 25}\n"
     ]
    }
   ],
   "source": [
    "alien_0 = {'x_position': 0, 'y_position': 25, 'speed': 'medium'}\n",
    "print(alien_0)\n",
    "del alien_0['speed']\n",
    "print(alien_0)"
   ]
  },
  {
   "cell_type": "code",
   "execution_count": 22,
   "metadata": {},
   "outputs": [
    {
     "name": "stdout",
     "output_type": "stream",
     "text": [
      "Have you seen the Bentley Continental? It's pretty cool.\n",
      "Have you seen the Audi R8? It's pretty cool.\n",
      "Have you seen the Nissan GTR? It's pretty cool.\n",
      "Have you seen the Mercedes GTR? It's pretty cool.\n",
      "Have you seen the Porsche Cayman S? It's pretty cool.\n",
      "Have you seen the Toyota Supra? It's pretty cool.\n",
      "Have you seen the Volkswagen Golf R? It's pretty cool.\n",
      "\n",
      "\n",
      "The unique models mentioned as \"cool\" were :\n",
      "\n",
      "Continental\n",
      "R8\n",
      "GTR\n",
      "Golf R\n",
      "Cayman S\n",
      "Supra\n"
     ]
    }
   ],
   "source": [
    "cool_cars = {\n",
    "    'bentley': 'continental', \n",
    "    'audi': 'r8',\n",
    "    'nissan': 'gtr',\n",
    "    'mercedes': 'gtr',\n",
    "    'porsche': '911 turbo s',\n",
    "    'toyota': 'supra',\n",
    "    'volkswagen': 'golf r',\n",
    "    'porsche': 'cayman s'\n",
    "}\n",
    "\n",
    "for k, v in cool_cars.items():\n",
    "    if v == 'gtr':\n",
    "        print('Have you seen the ' + k.title() + ' ' + v.upper() + \"? It's pretty cool.\")\n",
    "    else:\n",
    "        print('Have you seen the ' + k.title() + ' ' + v.title() + \"? It's pretty cool.\")\n",
    "    \n",
    "print('\\n')\n",
    "\n",
    "print('The unique models mentioned as \"cool\" were :\\n')\n",
    "for model in set(cool_cars.values()):\n",
    "    if model == 'gtr':\n",
    "        print(model.upper())\n",
    "    else:\n",
    "        print(model.title())"
   ]
  },
  {
   "cell_type": "code",
   "execution_count": 23,
   "metadata": {},
   "outputs": [
    {
     "name": "stdout",
     "output_type": "stream",
     "text": [
      "{'color': 'green', 'points': 1}\n",
      "{'color': 'yellow', 'points': 5}\n",
      "{'color': 'orange', 'points': 10}\n",
      "{'color': 'red', 'points': 15}\n",
      "{'color': 'black', 'points': 20}\n",
      "{'color': 'gold', 'points': 30}\n"
     ]
    }
   ],
   "source": [
    "alien_0 = {'color': 'green', 'points': 1}\n",
    "alien_1 = {'color': 'yellow', 'points': 5}\n",
    "alien_2 = {'color': 'orange', 'points': 10}\n",
    "alien_3 = {'color': 'red', 'points': 15}\n",
    "alien_4 = {'color': 'black', 'points': 20}\n",
    "alien_5 = {'color': 'gold', 'points': 30}\n",
    "\n",
    "aliens = [alien_0, alien_1, alien_2, alien_3, alien_4, alien_5]\n",
    "\n",
    "for alien in aliens:\n",
    "    print(alien)"
   ]
  },
  {
   "cell_type": "code",
   "execution_count": 24,
   "metadata": {},
   "outputs": [
    {
     "name": "stdout",
     "output_type": "stream",
     "text": [
      "{'color': 'green', 'points': 5, 'speed': 'slow'}\n",
      "{'color': 'green', 'points': 5, 'speed': 'slow'}\n",
      "{'color': 'green', 'points': 5, 'speed': 'slow'}\n",
      "{'color': 'yellow', 'points': 10, 'speed': 'medium'}\n",
      "{'color': 'yellow', 'points': 10, 'speed': 'medium'}\n",
      "...\n",
      "Total numer of aliens: 30\n"
     ]
    }
   ],
   "source": [
    "aliens = []\n",
    "\n",
    "for alien_number in range(30):\n",
    "    if alien_number < 3:\n",
    "        new_alien = {'color': 'green', 'points': 5, 'speed':'slow'}\n",
    "        aliens.append(new_alien)\n",
    "    else:\n",
    "        new_alien = {'color': 'yellow', 'points': 10, 'speed':'medium'}\n",
    "        aliens.append(new_alien)\n",
    "        \n",
    "        \n",
    "for alien in aliens[:5]:\n",
    "    print(alien)\n",
    "print('...')\n",
    "\n",
    "print('Total numer of aliens: ' + str(len(aliens)))\n"
   ]
  },
  {
   "cell_type": "code",
   "execution_count": 25,
   "metadata": {},
   "outputs": [
    {
     "name": "stdout",
     "output_type": "stream",
     "text": [
      "Audi's cool cars are:\n",
      "\tAudi R8\n",
      "\tAudi S3\n",
      "\tAudi S5 Sportback\n",
      "\n",
      "\n",
      "BMW's cool cars are:\n",
      "\tBMW M5 Competition\n",
      "\tBMW M2 Competition\n",
      "\tBMW M3\n",
      "\n",
      "\n",
      "Aston Martin's cool cars are:\n",
      "\tAston Martin DB11\n",
      "\tAston Martin DB9\n",
      "\tAston Martin Vantage\n",
      "\tAston Martin Valkyrie\n",
      "\tAston Martin Valhalla\n",
      "\n",
      "\n"
     ]
    }
   ],
   "source": [
    "cool_cars = {\n",
    "    'audi': ['r8', 's3', 's5 sportback'],\n",
    "    'bmw': ['m5 competition', 'm2 competition', 'm3'],\n",
    "    'aston martin': ['db11', 'db9', 'vantage', 'valkyrie', 'valhalla']\n",
    "    }\n",
    "\n",
    "for mfg, models in cool_cars.items():\n",
    "    if mfg == 'bmw':\n",
    "        print(mfg.upper() + \"'s cool cars are:\")\n",
    "        for model in models:\n",
    "            print('\\t' + mfg.upper() + ' ' + model.title())\n",
    "        print('\\n')\n",
    "    else:\n",
    "        print(mfg.title() + \"'s cool cars are:\")\n",
    "        for model in models:\n",
    "            if model in ['db11','db9']:\n",
    "                print('\\t' + mfg.title() + ' ' + model.upper())\n",
    "            else:\n",
    "                print('\\t' + mfg.title() + ' ' + model.title())\n",
    "        print('\\n')"
   ]
  },
  {
   "cell_type": "code",
   "execution_count": 26,
   "metadata": {},
   "outputs": [
    {
     "name": "stdout",
     "output_type": "stream",
     "text": [
      "Username: aeinstein\n",
      "   First name: Albert\n",
      "   Last name: Einstein\n",
      "   Location: Princeton\n",
      "Username: mcurie\n",
      "   First name: Marie\n",
      "   Last name: Curie\n",
      "   Location: Paris\n"
     ]
    }
   ],
   "source": [
    "users = {\n",
    "    'aeinstein': {\n",
    "        'first': 'albert',\n",
    "        'last': 'einstein',\n",
    "        'location': 'princeton'\n",
    "        },\n",
    "    'mcurie': {\n",
    "        'first': 'marie',\n",
    "        'last': 'curie',\n",
    "        'location': 'paris'\n",
    "        }\n",
    "    }\n",
    "\n",
    "for username, user_info in users.items():\n",
    "    print('Username: ' + username)\n",
    "    print('   First name: ' + user_info['first'].title())\n",
    "    print('   Last name: ' + user_info['last'].title())\n",
    "    print('   Location: ' + user_info['location'].title())"
   ]
  },
  {
   "cell_type": "code",
   "execution_count": 27,
   "metadata": {},
   "outputs": [
    {
     "name": "stdout",
     "output_type": "stream",
     "text": [
      "State: Colorado\n",
      "\n",
      "\tCity: Denver\n",
      "\t\tLatitude: 39.74\n",
      "\t\tLongitude: 104.99\n",
      "\t\tPopulation: 619968\n",
      "\n",
      "\n",
      "\tCity: Boulder\n",
      "\t\tLatitude: 40.02\n",
      "\t\tLongitude: 105.27\n",
      "\t\tPopulation: 107353\n",
      "\n",
      "\n",
      "State: Texas\n",
      "\n",
      "\tCity: Austin\n",
      "\t\tLatitude: 30.28\n",
      "\t\tLongitude: 97.74\n",
      "\t\tPopulation: 964000\n",
      "\n",
      "\n",
      "\tCity: San Antonio\n",
      "\t\tLatitude: 29.42\n",
      "\t\tLongitude: 98.49\n",
      "\t\tPopulation: 1493000\n",
      "\n",
      "\n",
      "State: Wisconsin\n",
      "\n",
      "\tCity: Madison\n",
      "\t\tLatitude: 43.07\n",
      "\t\tLongitude: 89.4\n",
      "\t\tPopulation: 258000\n",
      "\n",
      "\n",
      "\tCity: Milwaukee\n",
      "\t\tLatitude: 43.04\n",
      "\t\tLongitude: 87.91\n",
      "\t\tPopulation: 592000\n",
      "\n",
      "\n"
     ]
    }
   ],
   "source": [
    "cities = {\n",
    "    'colorado': {\n",
    "        'denver': {\n",
    "            'lat': 39.74,\n",
    "            'lon': 104.99,\n",
    "            'population': 619968\n",
    "            },\n",
    "        'boulder': {\n",
    "            'lat': 40.02,\n",
    "            'lon': 105.27,\n",
    "            'population': 107353\n",
    "            }\n",
    "        },\n",
    "    'texas': {\n",
    "        'austin': {\n",
    "            'lat': 30.28,\n",
    "            'lon': 97.74,\n",
    "            'population': 964000\n",
    "            },\n",
    "        'san antonio': {\n",
    "            'lat': 29.42,\n",
    "            'lon': 98.49,\n",
    "            'population': 1493000\n",
    "            }\n",
    "        },\n",
    "    'wisconsin': {\n",
    "        'madison': {\n",
    "            'lat': 43.07,\n",
    "            'lon': 89.40,\n",
    "            'population': 258000\n",
    "            },\n",
    "        'milwaukee': {\n",
    "            'lat': 43.04,\n",
    "            'lon': 87.91,\n",
    "            'population': 592000\n",
    "            }\n",
    "        }\n",
    "\n",
    "    }\n",
    "\n",
    "for state, city in cities.items():\n",
    "    print('State: ' + state.title() + '\\n')\n",
    "    for city_name, city_details in city.items():\n",
    "        print('\\tCity: ' + city_name.title())\n",
    "        print('\\t\\tLatitude: ' + str(city_details['lat']))\n",
    "        print('\\t\\tLongitude: ' + str(city_details['lon']))\n",
    "        print('\\t\\tPopulation: ' + str(city_details['population']))\n",
    "        print('\\n')"
   ]
  },
  {
   "cell_type": "markdown",
   "metadata": {},
   "source": [
    "## Chapter 7 - User Input and While Loops"
   ]
  },
  {
   "cell_type": "code",
   "execution_count": 28,
   "metadata": {},
   "outputs": [
    {
     "name": "stdout",
     "output_type": "stream",
     "text": [
      "What's your favorite flavor of ice cream? espresso\n",
      "\n",
      "Yum! Espresso sounds delicous!\n"
     ]
    }
   ],
   "source": [
    "fave_flave = input(\"What's your favorite flavor of ice cream? \")\n",
    "print('\\nYum! '+ fave_flave.title() + ' sounds delicous!')"
   ]
  },
  {
   "cell_type": "code",
   "execution_count": 30,
   "metadata": {},
   "outputs": [
    {
     "name": "stdout",
     "output_type": "stream",
     "text": [
      "When is your Birthday? January 1\n",
      "What is your name? Eve\n",
      "\n",
      "January 1 is a special day for Eve! It's Eve's Birthday!\n"
     ]
    }
   ],
   "source": [
    "prompt_bday = 'When is your Birthday? '\n",
    "prompt_name = 'What is your name? '\n",
    "\n",
    "bday = input(prompt_bday)\n",
    "name = input(prompt_name)\n",
    "\n",
    "message = '\\n' + bday + ' is a special day for ' + name + '!'\n",
    "message += \" It's \" + name + \"'s Birthday!\"\n",
    "print(message)"
   ]
  },
  {
   "cell_type": "code",
   "execution_count": 31,
   "metadata": {},
   "outputs": [
    {
     "name": "stdout",
     "output_type": "stream",
     "text": [
      "How fast is your 200m run time? 21.7\n",
      "What's your sex? Write 'M' for male and 'F' for female. m\n",
      "Wow, you're top-tier.\n"
     ]
    }
   ],
   "source": [
    "time = input('How fast is your 200m run time? ')\n",
    "sex = input(\"What's your sex? Write 'M' for male and 'F' for female. \")\n",
    "time = float(time)\n",
    "if sex.lower() == 'm':\n",
    "    if time <= 20.5:\n",
    "        print(\"Wow! You're Olympic-level fast.\")\n",
    "    elif time <= 22:\n",
    "        print(\"Wow, you're top-tier.\")\n",
    "    elif time < 24:\n",
    "        print(\"You're pretty fast.\")\n",
    "    else:\n",
    "        print(\"Nice, keep up the good work.\")\n",
    "elif sex.lower() == 'f':\n",
    "    if time <= 22.5:\n",
    "        print(\"Wow! You're Olympic-level fast.\")\n",
    "    elif time <= 26:\n",
    "        print(\"Wow, you're top-tier.\")\n",
    "    elif time < 28:\n",
    "        print(\"You're pretty fast.\")\n",
    "    else:\n",
    "        print(\"Nice, keep up the good work.\")\n",
    "else:\n",
    "    print('Sorry, your input was not recognized. Please try again.')"
   ]
  },
  {
   "cell_type": "code",
   "execution_count": 32,
   "metadata": {},
   "outputs": [
    {
     "name": "stdout",
     "output_type": "stream",
     "text": [
      "Input a number and I'll tell you if it's a multiple of 3. What number do you want to test? 123456\n",
      "The number is divisible by 3!\n"
     ]
    }
   ],
   "source": [
    "number = input(\"Input a number and I'll tell you if it's a multiple of 3. What number do you want to test? \")\n",
    "number = int(number)\n",
    "if number % 3 == 0:\n",
    "    print(\"The number is divisible by 3!\")\n",
    "else:\n",
    "    print(\"The number is not divisible by 3.\")"
   ]
  },
  {
   "cell_type": "code",
   "execution_count": 37,
   "metadata": {},
   "outputs": [
    {
     "name": "stdout",
     "output_type": "stream",
     "text": [
      "\n",
      "Tell me something and I'll repeat it back to you.\n",
      "Enter 'quit' to end the program. Hello!\n",
      "\tHello!\n",
      "\n",
      "Tell me something and I'll repeat it back to you.\n",
      "Enter 'quit' to end the program. Nice to meet you.\n",
      "\tNice to meet you.\n",
      "\n",
      "Tell me something and I'll repeat it back to you.\n",
      "Enter 'quit' to end the program. Goodbye\n",
      "\tGoodbye\n",
      "\n",
      "Tell me something and I'll repeat it back to you.\n",
      "Enter 'quit' to end the program. quit\n"
     ]
    }
   ],
   "source": [
    "message = 'initialized message'\n",
    "prompt = \"\\nTell me something and I'll repeat it back to you.\"\n",
    "prompt += \"\\nEnter 'quit' to end the program. \"\n",
    "active = True\n",
    "\n",
    "while message != 'quit':\n",
    "    message = input(prompt)\n",
    "    \n",
    "    if message == 'quit':\n",
    "        active = False\n",
    "    else:\n",
    "        print('\\t' + message)"
   ]
  },
  {
   "cell_type": "code",
   "execution_count": 40,
   "metadata": {},
   "outputs": [
    {
     "name": "stdout",
     "output_type": "stream",
     "text": [
      "Please enter a name of a city you've visited.\n",
      "(Enter 'quit' when you are finished.) Dublin\n",
      "   I'd love to go to Dublin!\n",
      "Please enter a name of a city you've visited.\n",
      "(Enter 'quit' when you are finished.) Jerusalem\n",
      "   I'd love to go to Jerusalem!\n",
      "Please enter a name of a city you've visited.\n",
      "(Enter 'quit' when you are finished.) Dubai\n",
      "   I'd love to go to Dubai!\n",
      "Please enter a name of a city you've visited.\n",
      "(Enter 'quit' when you are finished.) Hong Kong\n",
      "   I'd love to go to Hong Kong!\n",
      "Please enter a name of a city you've visited.\n",
      "(Enter 'quit' when you are finished.) quit\n"
     ]
    }
   ],
   "source": [
    "prompt = \"Please enter a name of a city you've visited.\"\n",
    "prompt += \"\\n(Enter 'quit' when you are finished.) \"\n",
    "\n",
    "while True:\n",
    "    city = input(prompt)\n",
    "    if city == 'quit':\n",
    "        break\n",
    "    else:\n",
    "        print(\"   I'd love to go to \" + city.title() + \"!\")"
   ]
  },
  {
   "cell_type": "code",
   "execution_count": 51,
   "metadata": {},
   "outputs": [
    {
     "name": "stdout",
     "output_type": "stream",
     "text": [
      "What topping would you like to add to your pizza?\n",
      "Type 'order' when you're ready to order!\n",
      "\tcheese\n",
      "Adding cheese to pizza!\n",
      "\n",
      "Your pizza now contains: \n",
      "\t> cheese\n",
      "What topping would you like to add to your pizza?\n",
      "Type 'order' when you're ready to order!\n",
      "\tmore cheese\n",
      "Adding more cheese to pizza!\n",
      "\n",
      "Your pizza now contains: \n",
      "\t> cheese\n",
      "\t> more cheese\n",
      "What topping would you like to add to your pizza?\n",
      "Type 'order' when you're ready to order!\n",
      "\tsausage\n",
      "Adding sausage to pizza!\n",
      "\n",
      "Your pizza now contains: \n",
      "\t> cheese\n",
      "\t> more cheese\n",
      "\t> sausage\n",
      "What topping would you like to add to your pizza?\n",
      "Type 'order' when you're ready to order!\n",
      "\tpepperoni\n",
      "Adding pepperoni to pizza!\n",
      "\n",
      "Your pizza now contains: \n",
      "\t> cheese\n",
      "\t> more cheese\n",
      "\t> sausage\n",
      "\t> pepperoni\n",
      "What topping would you like to add to your pizza?\n",
      "Type 'order' when you're ready to order!\n",
      "\tonions\n",
      "Adding onions to pizza!\n",
      "\n",
      "Your pizza now contains: \n",
      "\t> cheese\n",
      "\t> more cheese\n",
      "\t> sausage\n",
      "\t> pepperoni\n",
      "\t> onions\n",
      "What topping would you like to add to your pizza?\n",
      "Type 'order' when you're ready to order!\n",
      "\tpeppers\n",
      "Adding peppers to pizza!\n",
      "\n",
      "Your pizza now contains: \n",
      "\t> cheese\n",
      "\t> more cheese\n",
      "\t> sausage\n",
      "\t> pepperoni\n",
      "\t> onions\n",
      "\t> peppers\n",
      "What topping would you like to add to your pizza?\n",
      "Type 'order' when you're ready to order!\n",
      "\tolives\n",
      "Adding olives to pizza!\n",
      "\n",
      "Your pizza now contains: \n",
      "\t> cheese\n",
      "\t> more cheese\n",
      "\t> sausage\n",
      "\t> pepperoni\n",
      "\t> onions\n",
      "\t> peppers\n",
      "\t> olives\n",
      "What topping would you like to add to your pizza?\n",
      "Type 'order' when you're ready to order!\n",
      "\torder\n",
      "Yummmmmm. Coming right up!\n"
     ]
    }
   ],
   "source": [
    "prompt = 'What topping would you like to add to your pizza?'\n",
    "prompt += \"\\nType 'order' when you're ready to order!\\n\\t\"\n",
    "toppings = []\n",
    "new_topping = \"\"\n",
    "while True:\n",
    "    new_topping = input(prompt)\n",
    "    if new_topping == 'order':\n",
    "        print(\"Yummmmmm. Coming right up!\")\n",
    "        break\n",
    "    else:\n",
    "        print('Adding ' + new_topping + ' to pizza!\\n')\n",
    "        toppings += [new_topping]\n",
    "        print('Your pizza now contains: ')\n",
    "        for topping in toppings:\n",
    "            print('\\t> ' + topping)\n",
    "    "
   ]
  },
  {
   "cell_type": "code",
   "execution_count": 53,
   "metadata": {},
   "outputs": [
    {
     "name": "stdout",
     "output_type": "stream",
     "text": [
      "Verifying user: Clarice\n",
      "Verifying user: Brian\n",
      "Verifying user: Alice\n",
      "\n",
      "The following users have ben confirmed:\n",
      "Clarice\n",
      "Brian\n",
      "Alice\n"
     ]
    }
   ],
   "source": [
    "unconfirmed_users = ['alice', 'brian', 'clarice']\n",
    "confirmed_users = []\n",
    "\n",
    "while unconfirmed_users:\n",
    "    current_user = unconfirmed_users.pop()\n",
    "    print(\"Verifying user: \" + current_user.title())\n",
    "    confirmed_users.append(current_user)\n",
    "\n",
    "print(\"\\nThe following users have ben confirmed:\")\n",
    "for confirmed_user in confirmed_users:\n",
    "    print(confirmed_user.title())"
   ]
  },
  {
   "cell_type": "code",
   "execution_count": 54,
   "metadata": {},
   "outputs": [
    {
     "name": "stdout",
     "output_type": "stream",
     "text": [
      "['dog', 'cat', 'dog', 'goldfish', 'cat', 'rabbit', 'cat', 'lizard', 'racoon']\n",
      "['dog', 'dog', 'goldfish', 'rabbit', 'lizard', 'racoon']\n"
     ]
    }
   ],
   "source": [
    "pets = ['dog', 'cat', 'dog', 'goldfish', 'cat', 'rabbit', 'cat', 'lizard', 'racoon']\n",
    "print(pets)\n",
    "\n",
    "while 'cat' in pets:\n",
    "    pets.remove('cat')\n",
    "\n",
    "print(pets)"
   ]
  },
  {
   "cell_type": "code",
   "execution_count": 57,
   "metadata": {},
   "outputs": [
    {
     "name": "stdout",
     "output_type": "stream",
     "text": [
      "\n",
      "What is your name? Adam\n",
      "Which mountain would you like to climb someday? Chimborazo\n",
      "Would you like to let another person respon? (yes/no) yes\n",
      "\n",
      "What is your name? Bianca\n",
      "Which mountain would you like to climb someday? Capitol Peak\n",
      "Would you like to let another person respon? (yes/no) yes\n",
      "\n",
      "What is your name? Camile\n",
      "Which mountain would you like to climb someday? Mount Adams\n",
      "Would you like to let another person respon? (yes/no) Dan\n",
      "\n",
      "What is your name? Dan\n",
      "Which mountain would you like to climb someday? Little Bear\n",
      "Would you like to let another person respon? (yes/no) no\n",
      "\n",
      "--- Poll Results ---\n",
      "Adam would like to climb Chimborazo.\n",
      "Bianca would like to climb Capitol Peak.\n",
      "Camile would like to climb Mount Adams.\n",
      "Dan would like to climb Little Bear.\n"
     ]
    }
   ],
   "source": [
    "responses = {}\n",
    "\n",
    "polling_active = True\n",
    "\n",
    "while polling_active:\n",
    "    # Prompts the person for name and response\n",
    "    name = input(\"\\nWhat is your name? \")\n",
    "    response = input(\"Which mountain would you like to climb someday? \")\n",
    "    responses[name] = response\n",
    "    \n",
    "    # Finds out if anyone else in the group is going to take the poll\n",
    "    repeat = input(\"Would you like to let another person respon? (yes/no) \")\n",
    "    if repeat == 'no':\n",
    "        polling_active = False\n",
    "\n",
    "# Polling is complete\n",
    "print(\"\\n--- Poll Results ---\")\n",
    "for name, response in responses.items():\n",
    "    print(name + \" would like to climb \" + response + '.')"
   ]
  },
  {
   "cell_type": "markdown",
   "metadata": {},
   "source": [
    "## Chapter 8 - Functions"
   ]
  },
  {
   "cell_type": "code",
   "execution_count": 2,
   "metadata": {},
   "outputs": [
    {
     "name": "stdout",
     "output_type": "stream",
     "text": [
      "Hello, Jesse!\n"
     ]
    }
   ],
   "source": [
    "def greet_user(username):\n",
    "    \"\"\"Display a simple greeting.\"\"\"\n",
    "    print(\"Hello, \" + username.title() + \"!\")\n",
    "\n",
    "greet_user('jesse')"
   ]
  },
  {
   "cell_type": "code",
   "execution_count": 9,
   "metadata": {},
   "outputs": [
    {
     "name": "stdout",
     "output_type": "stream",
     "text": [
      "\n",
      "I have a hamster.\n",
      "My hamster's name is Harry.\n",
      "\n",
      "I have a dog.\n",
      "My dog's name is Doug.\n",
      "\n",
      "I have a goat.\n",
      "My goat's name is Goodwin.\n",
      "\n",
      "I have a dog.\n",
      "My dog's name is Dan.\n"
     ]
    }
   ],
   "source": [
    "def describe_pet(pet_name, animal_type='dog'):\n",
    "    \"\"\"Display information about a pet\"\"\"\n",
    "    print(\"\\nI have a \" + animal_type + \".\")\n",
    "    print(\"My \" + animal_type + \"'s name is \" + pet_name.title() + \".\")\n",
    "    \n",
    "describe_pet('harry', 'hamster')\n",
    "describe_pet('doug', 'dog')\n",
    "describe_pet(pet_name = 'goodwin', animal_type = 'goat')\n",
    "describe_pet('dan')"
   ]
  },
  {
   "cell_type": "code",
   "execution_count": 13,
   "metadata": {},
   "outputs": [
    {
     "name": "stdout",
     "output_type": "stream",
     "text": [
      "Boston is in The United States.\n",
      "Paris is in France.\n",
      "Jerusalem is in Israel.\n"
     ]
    }
   ],
   "source": [
    "def describe_city(city, country='the united states'):\n",
    "    \"\"\"Display information about a city\"\"\"\n",
    "    print(city.title() + ' is in ' + country.title() + \".\")\n",
    "\n",
    "describe_city('boston')\n",
    "describe_city('paris', 'france')\n",
    "describe_city(country='israel', city='jerusalem')"
   ]
  },
  {
   "cell_type": "code",
   "execution_count": 17,
   "metadata": {},
   "outputs": [
    {
     "name": "stdout",
     "output_type": "stream",
     "text": [
      "John Lee Hooker\n"
     ]
    }
   ],
   "source": [
    "def get_formatted_name(first_name, middle_name, last_name):\n",
    "    \"\"\"Return a full name, neatly formatted.\"\"\"\n",
    "    full_name = first_name + ' ' + middle_name + ' ' + last_name\n",
    "    return full_name.title()\n",
    "\n",
    "musician = get_formatted_name('john', 'lee', 'hooker')\n",
    "print(musician)"
   ]
  },
  {
   "cell_type": "code",
   "execution_count": 20,
   "metadata": {},
   "outputs": [
    {
     "name": "stdout",
     "output_type": "stream",
     "text": [
      "\n",
      "John Hooker Lee\n",
      "\n",
      "Jimmy Hendrix\n"
     ]
    }
   ],
   "source": [
    "def get_formatted_name(first_name, last_name, middle_name = ''):\n",
    "    \"\"\"Return a full name, neatly formatted.\"\"\"\n",
    "    if middle_name:\n",
    "        full_name = first_name + ' ' + middle_name + ' ' + last_name\n",
    "    else:\n",
    "        full_name = first_name + ' ' + last_name\n",
    "    return '\\n' + full_name.title()\n",
    "\n",
    "musician = get_formatted_name('john', 'lee', 'hooker')\n",
    "print(musician)\n",
    "\n",
    "musician = get_formatted_name('jimmy', 'hendrix')\n",
    "print(musician)"
   ]
  },
  {
   "cell_type": "code",
   "execution_count": 29,
   "metadata": {},
   "outputs": [
    {
     "name": "stdout",
     "output_type": "stream",
     "text": [
      "{'first': 'jimi', 'last': 'hendrix'}\n",
      "{'first': 'jimi', 'last': 'hendrix', 'age': 27}\n"
     ]
    }
   ],
   "source": [
    "def build_person(first_name, last_name, age=''):\n",
    "    \"\"\"Return a dictionary of information about a person\"\"\"\n",
    "    person = {'first': first_name, 'last': last_name}\n",
    "    if age:\n",
    "        person['age'] = age\n",
    "    return person\n",
    "\n",
    "musician = build_person('jimi', 'hendrix')\n",
    "print(musician)\n",
    "musician = build_person('jimi', 'hendrix', 27)\n",
    "print(musician)"
   ]
  },
  {
   "cell_type": "code",
   "execution_count": 33,
   "metadata": {},
   "outputs": [
    {
     "name": "stdout",
     "output_type": "stream",
     "text": [
      "\n",
      "Please tell me your name.\n",
      "(enter 'q' at any time to quit)\n",
      "First name: alpha\n",
      "Last name: bravo\n",
      "\n",
      "Hello, Alpha Bravo!\n",
      "\n",
      "Please tell me your name.\n",
      "(enter 'q' at any time to quit)\n",
      "First name: charlie\n",
      "Last name: chaplin\n",
      "\n",
      "Hello, Charlie Chaplin!\n",
      "\n",
      "Please tell me your name.\n",
      "(enter 'q' at any time to quit)\n",
      "First name: bill\n",
      "Last name: 1\n",
      "\n",
      "Hello, Bill 1!\n",
      "\n",
      "Please tell me your name.\n",
      "(enter 'q' at any time to quit)\n",
      "First name: bill\n",
      "Last name: q\n"
     ]
    }
   ],
   "source": [
    "def get_formatted_name(first_name, last_name):\n",
    "    \"\"\"Return a full name, neatly formatted.\"\"\"\n",
    "    full_name = first_name + ' ' + last_name\n",
    "    return full_name.title()\n",
    "\n",
    "while True:\n",
    "    print(\"\\nPlease tell me your name.\")\n",
    "    print(\"(enter 'q' at any time to quit)\")\n",
    "    \n",
    "    f_name = input(\"First name: \")\n",
    "    if f_name == 'q':\n",
    "        break\n",
    "    \n",
    "    l_name = input(\"Last name: \")\n",
    "    if l_name == 'q':\n",
    "        break\n",
    "    \n",
    "    formatted_name = get_formatted_name(f_name, l_name)\n",
    "    print(\"\\nHello, \" + formatted_name + \"!\")"
   ]
  },
  {
   "cell_type": "code",
   "execution_count": 42,
   "metadata": {},
   "outputs": [
    {
     "name": "stdout",
     "output_type": "stream",
     "text": [
      "\n",
      "Please tell me a city.\n",
      "(enter 'q' at any time to quit)\n",
      "Please enter a city: santiago\n",
      "Please enter a country: chile\n",
      "\n",
      "Santiago, Chile\n",
      "\n",
      "Please tell me a city.\n",
      "(enter 'q' at any time to quit)\n",
      "Please enter a city: moscow\n",
      "Please enter a country: russia\n",
      "\n",
      "Moscow, Russia\n",
      "\n",
      "Please tell me a city.\n",
      "(enter 'q' at any time to quit)\n",
      "Please enter a city: q\n"
     ]
    }
   ],
   "source": [
    "def city_country(city, country):\n",
    "    \"\"\"Returns a formatted location.\"\"\"\n",
    "    location = city_input + \", \" + country\n",
    "    return location.title()\n",
    "\n",
    "while True:\n",
    "    print(\"\\nPlease tell me a city.\")\n",
    "    print(\"(enter 'q' at any time to quit)\")\n",
    "    \n",
    "    city_input = input(\"Please enter a city: \")\n",
    "    if city_input == 'q':\n",
    "        break\n",
    "    \n",
    "    country_input = input(\"Please enter a country: \")\n",
    "    if country_input == 'q':\n",
    "        break\n",
    "    \n",
    "    print('\\n' + city_country(city_input, country_input))"
   ]
  },
  {
   "cell_type": "code",
   "execution_count": null,
   "metadata": {},
   "outputs": [],
   "source": []
  },
  {
   "cell_type": "code",
   "execution_count": null,
   "metadata": {},
   "outputs": [],
   "source": []
  },
  {
   "cell_type": "code",
   "execution_count": null,
   "metadata": {},
   "outputs": [],
   "source": []
  },
  {
   "cell_type": "code",
   "execution_count": null,
   "metadata": {},
   "outputs": [],
   "source": []
  }
 ],
 "metadata": {
  "kernelspec": {
   "display_name": "Python 3",
   "language": "python",
   "name": "python3"
  },
  "language_info": {
   "codemirror_mode": {
    "name": "ipython",
    "version": 3
   },
   "file_extension": ".py",
   "mimetype": "text/x-python",
   "name": "python",
   "nbconvert_exporter": "python",
   "pygments_lexer": "ipython3",
   "version": "3.7.4"
  }
 },
 "nbformat": 4,
 "nbformat_minor": 4
}
